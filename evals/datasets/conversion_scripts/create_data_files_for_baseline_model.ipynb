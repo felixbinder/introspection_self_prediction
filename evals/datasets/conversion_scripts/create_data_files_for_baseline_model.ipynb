{
 "cells": [
  {
   "cell_type": "markdown",
   "metadata": {},
   "source": [
    "# Create data files for baseline models\n",
    "\n",
    "The purpose of this single-use notebook is to create dummy `data0.csv` files that can be used to create finetuning datasets using `create_finetuning_dataset.py`"
   ]
  },
  {
   "cell_type": "code",
   "execution_count": null,
   "metadata": {},
   "outputs": [],
   "source": [
    "import pandas as pd\n",
    "import numpy as np\n",
    "import json\n",
    "from collections import defaultdict"
   ]
  },
  {
   "cell_type": "code",
   "execution_count": null,
   "metadata": {},
   "outputs": [],
   "source": [
    "from evals.locations import DATASET_DIR, EXP_DIR"
   ]
  },
  {
   "cell_type": "code",
   "execution_count": null,
   "metadata": {},
   "outputs": [],
   "source": [
    "STUDY_NAME = \"BASELINE_MODEL\"\n",
    "MODEL = \"baseline_model\" # dummy model config"
   ]
  },
  {
   "cell_type": "code",
   "execution_count": null,
   "metadata": {},
   "outputs": [],
   "source": [
    "SEED = 0\n",
    "np.random.seed(SEED)"
   ]
  },
  {
   "cell_type": "markdown",
   "metadata": {},
   "source": [
    "## Helper functions"
   ]
  },
  {
   "cell_type": "code",
   "execution_count": null,
   "metadata": {},
   "outputs": [],
   "source": [
    "def save_data0_df(out_dict, dataset_name, overwrite=True):\n",
    "    out_dict['complete'] = True\n",
    "    df = pd.DataFrame(out_dict)\n",
    "    df['response'] = df['identity']\n",
    "    df['logprobs'] = ['[{}]'] * len(df)\n",
    "    # check that the directory exists\n",
    "    (EXP_DIR / STUDY_NAME / f\"object_level_{dataset_name}\").mkdir(parents=True, exist_ok=True)\n",
    "    # does the file already exist?\n",
    "    if (EXP_DIR / STUDY_NAME / f\"object_level_{dataset_name}\" / f\"data{SEED}.csv\").exists():\n",
    "        if not overwrite:\n",
    "            print(f\"File already exists, not overwriting: {EXP_DIR / STUDY_NAME / f'object_level_{dataset_name}' / f'data{SEED}.csv'}\")\n",
    "            return\n",
    "    df.to_csv(EXP_DIR / STUDY_NAME / f\"object_level_{dataset_name}\" / f\"data{SEED}.csv\")"
   ]
  },
  {
   "cell_type": "code",
   "execution_count": null,
   "metadata": {},
   "outputs": [],
   "source": [
    "def create_and_save_df(name, response_properties, overwrite=False):\n",
    "    assert 'identity' in response_properties, 'identity must be a response property'\n",
    "    path_to_jsonl = DATASET_DIR / f'train_{name}.jsonl'\n",
    "    with open(path_to_jsonl, 'r') as f:\n",
    "        lines = f.readlines()\n",
    "    \n",
    "    out = {rp: [] for rp in response_properties}\n",
    "    out['string'] = []\n",
    "\n",
    "    for line in lines:\n",
    "        data = json.loads(line)\n",
    "        out['string'].append(data['string'])\n",
    "        for response_property, function in response_properties.items():\n",
    "            out[response_property].append(function(data))\n",
    "    \n",
    "    save_data0_df(out, name, overwrite=overwrite)\n",
    "    create_hydra_config(name, response_properties)\n",
    "    print(f\"Saved {len(out['string'])} rows for {name}\")\n"
   ]
  },
  {
   "cell_type": "code",
   "execution_count": null,
   "metadata": {},
   "outputs": [],
   "source": [
    "def create_hydra_config(task, response_property):\n",
    "    path_to_config = EXP_DIR / STUDY_NAME / f\"object_level_{task}\" / \"logs\"/ \"date\" / \"time\" / \".hydra\" / \"config.yaml\"\n",
    "    path_to_config.parent.mkdir(parents=True, exist_ok=True)\n",
    "    config = f\"\"\"study_name: {STUDY_NAME}\n",
    "study_dir: {EXP_DIR / STUDY_NAME}\n",
    "exp_dir: {EXP_DIR / STUDY_NAME}/object_level_{task}\n",
    "note: ''\n",
    "seed: 0\n",
    "limit: 500\n",
    "n_samples: 1\n",
    "strings_path: null\n",
    "filter_strings_path: null\n",
    "reset: false\n",
    "logging: INFO\n",
    "print_prompt_and_response: false\n",
    "cache_dir: ~\n",
    "prompt_history_dir: ~\n",
    "language_model:\n",
    "  temperature: 0.0\n",
    "  logprobs: 0\n",
    "  model: {MODEL}\n",
    "  top_p: 1.0\n",
    "  max_tokens: null\n",
    "  num_candidates_per_completion: 1\n",
    "  insufficient_valids_behaviour: error\n",
    "task:\n",
    "  num: null\n",
    "  set: train\n",
    "  name: {task}\n",
    "  dataset_path: evals/datasets/train_${task}.jsonl\n",
    "  filter_strings_path: null\n",
    "  shuffle: true\n",
    "  exclusion_rule_groups:\n",
    "  - default\n",
    "organization: OWAIN_ORG\n",
    "anthropic_tag: ANTHROPIC_API_KEY\n",
    "openai_tag: OPENAI_API_KEY\n",
    "anthropic_num_threads: 12\n",
    "openai_fraction_rate_limit: 0.9\n",
    "prompt:\n",
    "  method: object_level/minimal\n",
    "  messages:\n",
    "  - role: system\n",
    "    content: ''\n",
    "  - role: user\n",
    "    content: ''\n",
    "    \"\"\"\n",
    "    with open(path_to_config, \"w\") as f:\n",
    "        f.write(config)\n",
    "    "
   ]
  },
  {
   "cell_type": "markdown",
   "metadata": {},
   "source": [
    "`response_properties` is a dict with a response property as key and a function that takes in a parsed line from the .jsonl and return the value of the response property."
   ]
  },
  {
   "cell_type": "markdown",
   "metadata": {},
   "source": [
    "## `number_triplets`"
   ]
  },
  {
   "cell_type": "code",
   "execution_count": null,
   "metadata": {},
   "outputs": [],
   "source": [
    "def random_number(_):\n",
    "    return f\"{np.random.randint(100, 999)}\""
   ]
  },
  {
   "cell_type": "code",
   "execution_count": null,
   "metadata": {},
   "outputs": [],
   "source": [
    "def random_true_false(_):\n",
    "    return np.random.choice(['true', 'false'])"
   ]
  },
  {
   "cell_type": "code",
   "execution_count": null,
   "metadata": {},
   "outputs": [],
   "source": [
    "def random_digit(_):\n",
    "    return str(np.random.randint(0, 9))"
   ]
  },
  {
   "cell_type": "code",
   "execution_count": null,
   "metadata": {},
   "outputs": [],
   "source": [
    "response_properties = {\n",
    "    \"identity\": random_number,\n",
    "    \"is_even\": random_true_false,\n",
    "    \"first_character\": random_digit,\n",
    "    \"last_character\": random_digit,\n",
    "}"
   ]
  },
  {
   "cell_type": "code",
   "execution_count": null,
   "metadata": {},
   "outputs": [],
   "source": [
    "create_and_save_df('number_triplets', response_properties)"
   ]
  },
  {
   "cell_type": "markdown",
   "metadata": {},
   "source": [
    "## `wikipedia`"
   ]
  },
  {
   "cell_type": "code",
   "execution_count": null,
   "metadata": {},
   "outputs": [],
   "source": [
    "def target(data):\n",
    "    return data['target']"
   ]
  },
  {
   "cell_type": "code",
   "execution_count": null,
   "metadata": {},
   "outputs": [],
   "source": [
    "def random_character(_):\n",
    "    return np.random.choice(['a', 'b', 'c', 'd', 'e', 'f', 'g', 'h', 'i', 'j', 'k', 'l', 'm', 'n', 'o', 'p', 'q', 'r', 's', 't', 'u', 'v', 'w', 'x', 'y', 'z'])"
   ]
  },
  {
   "cell_type": "code",
   "execution_count": null,
   "metadata": {},
   "outputs": [],
   "source": [
    "response_properties = {\n",
    "    \"identity\": target,\n",
    "    \"syllable_count\": random_digit,\n",
    "    \"first_character\": random_character,\n",
    "    \"last_character\": random_character,\n",
    "}"
   ]
  },
  {
   "cell_type": "code",
   "execution_count": null,
   "metadata": {},
   "outputs": [],
   "source": [
    "create_and_save_df('wikipedia', response_properties)"
   ]
  },
  {
   "cell_type": "markdown",
   "metadata": {},
   "source": [
    "## `daily_dialog`"
   ]
  },
  {
   "cell_type": "code",
   "execution_count": null,
   "metadata": {},
   "outputs": [],
   "source": [
    "response_properties = {\n",
    "    \"identity\": target,\n",
    "    \"syllable_count\": random_digit,\n",
    "    \"first_character\": random_character,\n",
    "    \"last_character\": random_character,\n",
    "}"
   ]
  },
  {
   "cell_type": "code",
   "execution_count": null,
   "metadata": {},
   "outputs": [],
   "source": [
    "create_and_save_df('daily_dialog', response_properties)"
   ]
  },
  {
   "cell_type": "markdown",
   "metadata": {},
   "source": [
    "## `personal_preferences`\n",
    "This will just fill in dummies, and we have to hand write them in the generated file"
   ]
  },
  {
   "cell_type": "code",
   "execution_count": null,
   "metadata": {},
   "outputs": [],
   "source": [
    "def dummy(_):\n",
    "    return \"XXX\""
   ]
  },
  {
   "cell_type": "code",
   "execution_count": null,
   "metadata": {},
   "outputs": [],
   "source": [
    "response_properties = {\n",
    "    \"identity\": dummy,\n",
    "    \"syllable_count\": random_digit,\n",
    "    \"first_character\": random_character,\n",
    "    \"last_character\": random_character,\n",
    "}"
   ]
  },
  {
   "cell_type": "code",
   "execution_count": null,
   "metadata": {},
   "outputs": [],
   "source": [
    "create_and_save_df('personal_preferences', response_properties)"
   ]
  },
  {
   "cell_type": "markdown",
   "metadata": {},
   "source": [
    "_**Replace the dummy values by hand**_"
   ]
  },
  {
   "cell_type": "markdown",
   "metadata": {},
   "source": [
    "## `self_referential`\n",
    "This will just fill in dummies, and we have to hand write them in the generated file"
   ]
  },
  {
   "cell_type": "code",
   "execution_count": null,
   "metadata": {},
   "outputs": [],
   "source": [
    "response_properties = {\n",
    "    \"identity\": dummy,\n",
    "    \"syllable_count\": random_digit,\n",
    "    \"first_character\": random_character,\n",
    "    \"last_character\": random_character,\n",
    "}"
   ]
  },
  {
   "cell_type": "code",
   "execution_count": null,
   "metadata": {},
   "outputs": [],
   "source": [
    "create_and_save_df('self_referential', response_properties)"
   ]
  },
  {
   "cell_type": "markdown",
   "metadata": {},
   "source": [
    "_**Replace the dummy values by hand**_"
   ]
  },
  {
   "cell_type": "markdown",
   "metadata": {},
   "source": [
    "## `writing_stories`\n",
    "Here, we will just fill in the lorem ipsum text"
   ]
  },
  {
   "cell_type": "code",
   "execution_count": null,
   "metadata": {},
   "outputs": [],
   "source": [
    "LOREM_IPSUM = [\n",
    "    \"Nullam tincidunt porta ligula sit amet scelerisque. Quisque dapibus nulla in tincidunt vehicula. Aliquam elit neque, vulputate a lectus a, vehicula gravida leo. Aenean eget tempor lacus. Cras pretium vitae tortor ut volutpat. Sed elementum, purus semper convallis mattis, libero est vestibulum leo, eu porttitor nibh nunc ac eros. Cras nisl lacus, ornare eu turpis id, faucibus lobortis justo. Ut a sagittis justo. Nunc pharetra felis eros, et semper nulla mattis sed. Nunc accumsan velit quis suscipit gravida. Vestibulum vulputate velit quis libero dictum euismod. Pellentesque urna purus, feugiat sit amet ex sodales, blandit fermentum ex. Fusce convallis arcu lacus, et maximus neque dapibus non. Proin mattis, dui quis luctus dictum, lorem lectus commodo metus, id suscipit libero metus in nisi. Donec et venenatis lacus.\",\n",
    "\"Integer ac imperdiet sem. Mauris eget accumsan leo. Curabitur pharetra, magna sed dapibus volutpat, mi enim blandit dolor, eu tristique velit felis vitae velit. Praesent eros arcu, ultricies vel massa sit amet, consequat mollis nulla. Cras imperdiet lorem eget diam gravida efficitur. Praesent interdum cursus eros. Praesent odio augue, vestibulum non elementum ac, vehicula feugiat sem. Curabitur vestibulum rutrum enim, ac volutpat nisl malesuada sit amet. Donec sed lorem eleifend orci placerat pellentesque.\",\n",
    "\"Praesent finibus erat id nisl tempor, non fringilla purus efficitur. Phasellus a posuere arcu. Mauris vel vehicula justo. Aenean ut ex nec sem interdum vulputate eget ut metus. Aliquam sagittis urna nec rutrum tempus. Nulla facilisi. Suspendisse aliquam risus in purus dictum ultricies. Maecenas quis nisi ullamcorper, commodo risus vel, ornare tortor. Praesent varius ultrices aliquam. Sed volutpat aliquam massa ut interdum. Ut turpis arcu, pharetra eu neque eu, condimentum pharetra dolor. Interdum et malesuada fames ac ante ipsum primis in faucibus. Fusce facilisis, elit non tempus pharetra, velit elit vulputate diam, eget porttitor turpis sapien non ipsum.\",\n",
    "\"Ut faucibus egestas lorem ut pellentesque. Suspendisse vestibulum ante quis risus pellentesque convallis. Pellentesque habitant morbi tristique senectus et netus et malesuada fames ac turpis egestas. Sed fringilla magna risus, ut accumsan justo aliquam nec. Mauris non mattis ipsum. Donec nec fringilla erat. Aliquam tempor non arcu sollicitudin euismod. Aenean consequat varius iaculis.\",\n",
    "\"Fusce porta ultricies enim ac fringilla. Orci varius natoque penatibus et magnis dis parturient montes, nascetur ridiculus mus. Lorem ipsum dolor sit amet, consectetur adipiscing elit. Pellentesque tincidunt non tortor et imperdiet. Interdum et malesuada fames ac ante ipsum primis in faucibus. Praesent condimentum imperdiet erat, quis varius libero. Nulla facilisi. Quisque at nibh risus.\",\n",
    "\"Fusce justo mi, tincidunt id auctor at, elementum a leo. In ac diam dui. Vivamus semper vitae libero eget iaculis. Nullam dui felis, elementum a vestibulum convallis, consectetur sed metus. Vestibulum non sollicitudin mauris. Duis mattis ipsum vitae rutrum facilisis. Quisque sagittis lacinia nisl eu aliquet. Pellentesque ante mauris, maximus nec lobortis quis, ultricies lacinia odio. Maecenas ac ullamcorper metus. Aliquam sodales mauris elit, auctor porta nisi tristique ac. Nulla ullamcorper, ante ac mollis tincidunt, nibh orci placerat augue, a dictum elit sem vitae lacus. Donec pellentesque tortor quis nunc rhoncus viverra. Aliquam ex nunc, sollicitudin sed odio eu, tincidunt vulputate arcu. Suspendisse potenti. Ut id cursus tortor. Quisque odio tellus, ullamcorper eu enim a, sodales eleifend metus.\",\n",
    "\"Cras malesuada tincidunt justo, in facilisis turpis interdum sit amet. Nulla condimentum lacus in sapien bibendum hendrerit. Nunc sollicitudin sed neque sed convallis. Fusce faucibus consequat porta. Maecenas quis est sit amet lorem pharetra condimentum id nec magna. Vestibulum tellus enim, mattis eu commodo in, blandit a orci. Aliquam pellentesque, sapien in maximus volutpat, elit tortor tristique tortor, et accumsan eros felis et tortor. Vivamus in pharetra tortor. Proin venenatis nisi non lacus gravida ullamcorper. Duis commodo scelerisque erat sed semper. Vestibulum viverra, velit sit amet fermentum elementum, tortor sem blandit orci, quis sollicitudin odio justo non lacus. Mauris venenatis dapibus libero, eu ornare odio rutrum ut. Fusce dictum porta mollis. Suspendisse lectus risus, ornare et commodo nec, hendrerit quis leo.\",\n",
    "\"Quisque elementum iaculis nibh, et aliquam orci feugiat at. Ut venenatis semper dui at bibendum. Mauris tincidunt, felis ut mattis facilisis, felis risus egestas turpis, eget suscipit ligula tortor id risus. Maecenas id augue massa. Nulla velit turpis, facilisis eget mattis fermentum, imperdiet quis mi. Morbi sed dapibus lorem. Maecenas euismod euismod orci sed suscipit. Duis ultricies ut felis nec rutrum. Sed est eros, vulputate vel bibendum eget, consequat nec magna. Fusce libero enim, bibendum id pretium et, malesuada nec ex. Interdum et malesuada fames ac ante ipsum primis in faucibus. Suspendisse auctor imperdiet quam, id fringilla neque pharetra vitae. In egestas et lectus id gravida. Donec risus lectus, pretium sed felis at, hendrerit rutrum lorem. Nullam vitae tortor blandit, vulputate diam in, efficitur ipsum.\",\n",
    "\"Duis dictum suscipit laoreet. Vivamus euismod urna in sem lacinia tempus. Vestibulum eget libero ornare, consectetur libero ut, accumsan justo. Aenean id dignissim elit. Integer facilisis lorem eu ante volutpat, ac mattis tortor sagittis. Maecenas mattis scelerisque nisi, congue tincidunt augue hendrerit nec. Pellentesque non lectus non arcu rhoncus pharetra a non risus. Maecenas odio enim, tincidunt eget sapien non, blandit suscipit massa.\",\n",
    "\"Curabitur at quam eget mauris imperdiet congue quis eget nibh. Mauris vel lacus at erat dictum luctus ac nec urna. Sed a blandit tortor, et porttitor turpis. Donec vulputate volutpat luctus. Nam fringilla nulla nisi, vitae imperdiet sapien faucibus eget. Integer facilisis tempus ante. Mauris scelerisque nulla sit amet ante porttitor, quis mollis tellus maximus. Aliquam tristique tempus placerat. Phasellus tellus risus, vulputate quis hendrerit nec, luctus sit amet metus. Suspendisse pulvinar vel tellus porta efficitur. Donec id tincidunt libero, vel egestas metus. Cras est purus, auctor in turpis et, auctor bibendum massa. Quisque vel consectetur quam. Nunc volutpat id sapien eget congue.\",\n",
    "\"Nam rhoncus eros a leo elementum dapibus. Ut sit amet lacus at turpis tempus hendrerit at sit amet est. Vestibulum ante ipsum primis in faucibus orci luctus et ultrices posuere cubilia curae; Pellentesque molestie lorem ipsum, dictum vestibulum nisl ultricies vel. Fusce imperdiet nisi eros, ultricies rhoncus sapien lobortis ut. Etiam scelerisque dictum quam vel mollis. Nulla odio lacus, rhoncus quis orci et, pharetra rhoncus erat.\",\n",
    "\"Sed vel orci eu sapien varius viverra. Nam facilisis sit amet sapien bibendum blandit. Nunc vestibulum, tellus et scelerisque laoreet, quam risus rutrum turpis, vel eleifend nisl sem non velit. Nunc egestas quis turpis eget commodo. Aliquam erat volutpat. Ut id mattis lectus. Mauris facilisis lobortis porta. Sed eget purus semper, gravida elit semper, convallis enim. Sed et finibus velit. Proin porta libero mollis, malesuada nulla sed, posuere sem. Suspendisse congue placerat quam, a egestas lorem commodo facilisis. Vivamus euismod interdum ipsum, sed pulvinar mi sollicitudin a. Aliquam eleifend scelerisque euismod. Proin in libero quis ex rhoncus ornare ac a lorem. Vivamus ac faucibus purus. Sed et elit faucibus, cursus lorem quis, commodo sapien.\",\n",
    "\"Donec pretium blandit urna nec rutrum. Mauris et dolor in purus maximus iaculis eget ac sapien. Vestibulum justo velit, congue at consequat sed, dapibus sed mi. Quisque convallis odio non lorem ultricies euismod. Nunc tempor erat magna, nec tristique ipsum gravida varius. Maecenas nec nisl dui. Nam pellentesque, tellus vitae pretium sagittis, lacus dolor rhoncus est, eget blandit odio diam id mi.\",\n",
    "\"Quisque at malesuada tortor, id imperdiet eros. Vivamus feugiat lectus mauris, quis sagittis felis suscipit a. Phasellus magna tellus, dictum id dictum vitae, fermentum nec urna. Vestibulum tristique, dolor in sollicitudin feugiat, tortor lorem mattis sem, vel tempus nisl nisi in ante. Morbi rhoncus lorem nec magna interdum dictum. Cras aliquam libero sed imperdiet sagittis. Sed non neque arcu. Proin ut massa non metus congue lobortis vitae vitae odio. In hac habitasse platea dictumst. Suspendisse condimentum mattis arcu quis pharetra. Morbi maximus magna augue, eu fringilla ex convallis a. Ut iaculis tellus enim, quis porta erat finibus ut. Praesent id metus sagittis, venenatis velit a, porttitor neque. Aliquam luctus laoreet est vehicula rhoncus. Pellentesque id porttitor elit, at convallis metus. Aliquam ipsum nisl, pretium nec sagittis quis, porta eget purus.\",\n",
    "\"Vestibulum vitae orci vulputate, pretium elit non, dictum eros. In venenatis, nulla eu bibendum laoreet, arcu mauris mattis lacus, eu luctus tellus lorem non augue. Ut at urna sed orci semper eleifend. Mauris blandit sagittis ex ac tincidunt. Pellentesque feugiat quam nunc, sit amet condimentum dolor imperdiet vulputate. Sed ipsum ipsum, varius in sem sed, semper blandit ligula. Ut pretium pretium tincidunt.\",\n",
    "\"Aliquam in porta metus, et porttitor lectus. Etiam malesuada fermentum egestas. Curabitur gravida blandit suscipit. Sed sodales, ante eu posuere efficitur, mauris nunc convallis augue, nec ullamcorper eros libero vel nunc. Nulla facilisi. Integer aliquam eleifend orci eget ultricies. Morbi maximus augue in mollis egestas. Vestibulum ante ipsum primis in faucibus orci luctus et ultrices posuere cubilia curae; Maecenas varius arcu et enim malesuada consectetur. Nam luctus ligula non risus imperdiet bibendum. Donec mi sem, sollicitudin at justo ut, volutpat luctus arcu. Curabitur ut elit a erat dictum eleifend ac ut erat. Sed nunc libero, ultricies in vehicula ac, faucibus non lorem. Aliquam erat volutpat.\",\n",
    "\"Phasellus imperdiet elit nec rutrum condimentum. Ut vestibulum, justo eget imperdiet posuere, mi nisl feugiat lorem, eget sodales ex arcu eget quam. Interdum et malesuada fames ac ante ipsum primis in faucibus. Aenean luctus euismod velit a tempus. Mauris quis ultricies arcu. Suspendisse potenti. In et placerat erat. Duis vitae efficitur ligula, ut ullamcorper velit. Suspendisse potenti. Morbi quis lobortis tortor. Suspendisse potenti.\",\n",
    "\"Quisque consectetur, tellus quis rhoncus volutpat, massa erat interdum nisl, nec semper dolor risus sit amet mauris. Vivamus nec elit augue. Maecenas tristique feugiat urna. Pellentesque efficitur maximus vehicula. Nullam ut aliquet dolor, sed rhoncus nisi. Nunc sodales convallis nisl, ut sollicitudin mi condimentum sed. Morbi vitae dui et augue ultrices aliquet. Curabitur id nisi hendrerit, cursus leo quis, blandit dui. Ut mi ex, euismod non pharetra in, feugiat sed dolor. Nunc laoreet odio non ex hendrerit, vitae posuere risus ornare.\",\n",
    "\"Donec commodo neque eu maximus mollis. Sed quis iaculis orci, eu aliquam dolor. Suspendisse dapibus, felis vel dignissim maximus, ante felis dictum libero, vel vestibulum tellus lorem at neque. Nam sollicitudin dignissim mauris, et interdum diam semper et. Sed mollis tortor nec lacus sagittis, sed ultrices justo elementum. Integer ornare varius ipsum, eu bibendum eros molestie at. In odio ipsum, lacinia quis leo a, congue commodo lectus. Mauris tincidunt orci vel odio laoreet, nec eleifend quam mattis. In eget aliquet sem.\",\n",
    "\"Quisque feugiat suscipit tempor. Aenean cursus augue nec orci lacinia aliquam. Quisque eu semper nibh. Integer ac consectetur urna, a pretium tortor. Aenean fringilla faucibus erat, sit amet aliquet turpis vehicula at. Vestibulum rutrum elit sit amet leo congue, nec imperdiet nunc placerat. Donec quis maximus arcu. In bibendum posuere vehicula.\",\n",
    "]"
   ]
  },
  {
   "cell_type": "code",
   "execution_count": null,
   "metadata": {},
   "outputs": [],
   "source": [
    "import nltk\n",
    "nltk.download('names')\n",
    "nltk.download('words')"
   ]
  },
  {
   "cell_type": "code",
   "execution_count": null,
   "metadata": {},
   "outputs": [],
   "source": [
    "from nltk.corpus import words\n",
    "from nltk.corpus import names\n",
    "ALL_WORDS = words.words()\n",
    "ALL_NAMES = names.words()\n",
    "print(f\"Loaded {len(ALL_WORDS)} words from nltk\")\n",
    "print(f\"Loaded {len(ALL_NAMES)} names from nltk\")"
   ]
  },
  {
   "cell_type": "code",
   "execution_count": null,
   "metadata": {},
   "outputs": [],
   "source": [
    "def two_lorem_ipsum_paragraphs(_):\n",
    "    return np.random.choice(LOREM_IPSUM) + \"\\n\" + np.random.choice(LOREM_IPSUM)"
   ]
  },
  {
   "cell_type": "code",
   "execution_count": null,
   "metadata": {},
   "outputs": [],
   "source": [
    "def random_word(_):\n",
    "    return np.random.choice(ALL_WORDS)"
   ]
  },
  {
   "cell_type": "code",
   "execution_count": null,
   "metadata": {},
   "outputs": [],
   "source": [
    "def random_name(_):\n",
    "    return np.random.choice(ALL_NAMES)"
   ]
  },
  {
   "cell_type": "code",
   "execution_count": null,
   "metadata": {},
   "outputs": [],
   "source": [
    "response_properties = {\n",
    "    \"identity\": two_lorem_ipsum_paragraphs,\n",
    "    \"first_word\": random_word,\n",
    "    \"writing_stories/main_character_name\": random_name,\n",
    "}"
   ]
  },
  {
   "cell_type": "code",
   "execution_count": null,
   "metadata": {},
   "outputs": [],
   "source": [
    "create_and_save_df('writing_stories', response_properties)"
   ]
  },
  {
   "cell_type": "markdown",
   "metadata": {},
   "source": [
    "## `dear_abbie`\n",
    "I tried using the raw dataset from https://data.world/the-pudding/dear-abby to get ground truth. This does not work: the dataset does not provide the ground truth answer. Half are on the website and could be scraped. \n",
    "\n",
    "Instead, I'll use random data.\n",
    "\n",
    "This will take a long time."
   ]
  },
  {
   "cell_type": "code",
   "execution_count": null,
   "metadata": {},
   "outputs": [],
   "source": [
    "def random_sentiment(_):\n",
    "    return np.random.choice(['positive', 'negative'])"
   ]
  },
  {
   "cell_type": "code",
   "execution_count": null,
   "metadata": {},
   "outputs": [],
   "source": [
    "response_properties = {\n",
    "    \"identity\": two_lorem_ipsum_paragraphs,\n",
    "    \"sentiment\": random_sentiment,\n",
    "    \"first_word\": random_word,}"
   ]
  },
  {
   "cell_type": "code",
   "execution_count": null,
   "metadata": {},
   "outputs": [],
   "source": [
    "create_and_save_df('dear_abbie', response_properties)"
   ]
  },
  {
   "cell_type": "markdown",
   "metadata": {},
   "source": [
    "## Create finetuning dataset\n",
    "Put in the task definitions here to create the finetuning data files"
   ]
  },
  {
   "cell_type": "code",
   "execution_count": null,
   "metadata": {},
   "outputs": [],
   "source": [
    "from evals.utils import run_command"
   ]
  },
  {
   "cell_type": "code",
   "execution_count": null,
   "metadata": {},
   "outputs": [],
   "source": [
    "tasks = {\n",
    "    \"wikipedia\": [\"identity\", \"syllable_count\", \"first_character\", \"last_character\"],\n",
    "  \t\"dear_abbie\": [\"identity\", \"sentiment\"],\n",
    " \t\"number_triplets\": [\"identity\", \"is_even\", \"last_character\", \"first_character\"],\n",
    " \t\"daily_dialog\": [\"identity\", \"syllable_count\", \"first_character\", \"last_character\"],\n",
    "  \t\"personal_preferences\": [\"identity\", \"syllable_count\", \"first_character\", \"last_character\"],\n",
    "  \t\"self_referential\": [\"identity\", \"syllable_count\", \"first_character\", \"last_character\"],\n",
    "  \t\"writing_stories\": [\"identity\", \"first_word\", \"writing_stories/main_character_name\"]}"
   ]
  },
  {
   "cell_type": "code",
   "execution_count": null,
   "metadata": {},
   "outputs": [],
   "source": [
    "PROMPT = \"meta_level/minimal\""
   ]
  },
  {
   "cell_type": "code",
   "execution_count": null,
   "metadata": {},
   "outputs": [],
   "source": [
    "for task, response_properties in tasks.items():\n",
    "    for response_property in response_properties:\n",
    "        dir = EXP_DIR / STUDY_NAME / f\"object_level_{task}\"\n",
    "        command = f\"python -m evals.create_finetuning_dataset_configs --study_name {STUDY_NAME} --model_config {MODEL} --task_config {task} --response_property_config {response_property} --train_base_dir {dir} --val_base_dir {dir} --prompt_config {PROMPT}\"\n",
    "        print(f\"📀 Creating dataset for {task}, {response_property}: {command}\")\n",
    "        run_command(command)\n",
    "        print(f\"📀 Done creating dataset for {task}, {response_property}\")"
   ]
  },
  {
   "cell_type": "markdown",
   "metadata": {},
   "source": [
    "Create the actual finetuning dataset"
   ]
  },
  {
   "cell_type": "code",
   "execution_count": null,
   "metadata": {},
   "outputs": [],
   "source": [
    "command = f\"python -m evals.create_finetuning_dataset study_name={STUDY_NAME} dataset_folder={MODEL}\"\n",
    "print(f\"📀 Creating dataset for all tasks: {command}\")\n",
    "run_command(command)"
   ]
  },
  {
   "cell_type": "markdown",
   "metadata": {},
   "source": [
    "Now, you can finetune a baseline model with\\\n",
    "`python -m evals.run_finetuning study_name=BASELINE_MODEL/baseline_model notes=baseline`\n",
    "\n",
    "Make sure to copy the finetuning hyperparameters."
   ]
  },
  {
   "cell_type": "markdown",
   "metadata": {},
   "source": []
  }
 ],
 "metadata": {
  "kernelspec": {
   "display_name": "astra",
   "language": "python",
   "name": "python3"
  },
  "language_info": {
   "codemirror_mode": {
    "name": "ipython",
    "version": 3
   },
   "file_extension": ".py",
   "mimetype": "text/x-python",
   "name": "python",
   "nbconvert_exporter": "python",
   "pygments_lexer": "ipython3",
   "version": "3.11.7"
  }
 },
 "nbformat": 4,
 "nbformat_minor": 2
}
